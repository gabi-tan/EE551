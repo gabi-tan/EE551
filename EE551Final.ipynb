{
  "nbformat": 4,
  "nbformat_minor": 0,
  "metadata": {
    "colab": {
      "name": "EE551Final.ipynb",
      "provenance": []
    },
    "kernelspec": {
      "name": "python3",
      "display_name": "Python 3"
    }
  },
  "cells": [
    {
      "cell_type": "code",
      "metadata": {
        "colab": {
          "base_uri": "https://localhost:8080/",
          "height": 279
        },
        "id": "X4aSXxGiBk_4",
        "outputId": "313fc232-f1ae-4443-e816-c274ca2e915f"
      },
      "source": [
        "import matplotlib.pyplot as plt\n",
        "plt.style.use('seaborn-whitegrid')\n",
        "import numpy as np\n",
        "from sklearn.model_selection import train_test_split\n",
        "\n",
        "#I generate a random set of X values and plug them into a given equation, which is the goal equation\n",
        "#noise is added to generate the dataset so it is not exactly the equation\n",
        "noise_scale = 100\n",
        "#dataset size\n",
        "number_of_samples = 50\n",
        "#random generation of x\n",
        "x = 25*(np.random.rand(number_of_samples, 1) - 0.8)\n",
        "#use x to generate y\n",
        "y = 5 * x + 20 * x**2 + 1 * x**3 + noise_scale*np.random.randn(number_of_samples, 1)\n",
        "\n",
        "#plot the raw data\n",
        "plt.plot(x,y,'ro')"
      ],
      "execution_count": null,
      "outputs": [
        {
          "output_type": "execute_result",
          "data": {
            "text/plain": [
              "[<matplotlib.lines.Line2D at 0x7f1091df2208>]"
            ]
          },
          "metadata": {
            "tags": []
          },
          "execution_count": 268
        },
        {
          "output_type": "display_data",
          "data": {
            "image/png": "[encoded data removed]",
            "text/plain": [
              "<Figure size 432x288 with 1 Axes>"
            ]
          },
          "metadata": {
            "tags": []
          }
        }
      ]
    },
    {
      "cell_type": "code",
      "metadata": {
        "colab": {
          "base_uri": "https://localhost:8080/",
          "height": 330
        },
        "id": "FuL86_p8B4qX",
        "outputId": "a36958cc-9cba-4905-aaa9-b200db541408"
      },
      "source": [
        "from sklearn.metrics import mean_squared_error\n",
        "#plot the raw data\n",
        "plt.plot(x,y,'ro')\n",
        "#normalizing the data\n",
        "x = np.squeeze(x)\n",
        "y = np.squeeze(y)\n",
        "#performing polyfit to find the coefficients of the polynomial to fit the data\n",
        "coefs = np.polyfit(x,y,3)\n",
        "#using np.poly1d to create the polynomial \n",
        "ffit = np.poly1d(coefs)\n",
        "new_x = np.linspace(np.min(x), np.max(x))\n",
        "#generating the new y values in order to plot the data\n",
        "new_y = ffit(new_x)\n",
        "#plot the polynomial\n",
        "plt.plot(new_x, new_y)\n",
        "\n",
        "print(\"MSE: \", mean_squared_error(y, new_y))\n",
        "print(\"Coefficients:\" , coefs)\n",
        "print(\"Estimated Polynomial:\", ffit)"
      ],
      "execution_count": null,
      "outputs": [
        {
          "output_type": "stream",
          "text": [
            "MSE:  335180.31715069164\n",
            "Coefficients: [ 0.99818866 20.26840489 10.00950571  1.26997138]\n",
            "Estimated Polynomial:         3         2\n",
            "0.9982 x + 20.27 x + 10.01 x + 1.27\n"
          ],
          "name": "stdout"
        },
        {
          "output_type": "display_data",
          "data": {
            "image/png": "[encoded data removed]",
            "text/plain": [
              "<Figure size 432x288 with 1 Axes>"
            ]
          },
          "metadata": {
            "tags": []
          }
        }
      ]
    },
    {
      "cell_type": "code",
      "metadata": {
        "id": "0i9qnAwsgR1-",
        "colab": {
          "base_uri": "https://localhost:8080/"
        },
        "outputId": "88a8e142-6d5f-4f90-848d-d922112e2df8"
      },
      "source": [
        "#initialize population\r\n",
        "import random\r\n",
        "best=-100000\r\n",
        "populations =([[random.randint(0,25) for x in range(4)] for i in range(4)])\r\n",
        "parents=[]\r\n",
        "new_populations = []\r\n",
        "#generates a 2d array to be used as the population and made of \"genes\" and \"chromosomes\"\r\n",
        "print(populations)"
      ],
      "execution_count": null,
      "outputs": [
        {
          "output_type": "stream",
          "text": [
            "[[17, 7, 19, 24], [18, 19, 17, 19], [8, 15, 4, 21], [22, 14, 21, 21]]\n"
          ],
          "name": "stdout"
        }
      ]
    },
    {
      "cell_type": "code",
      "metadata": {
        "id": "km1QewcDm95W"
      },
      "source": [
        "#y = 5 * x + 20 * x**2 + 1 * x**3\r\n",
        "def fitness_score() :\r\n",
        "    global populations,best\r\n",
        "    fit_value = []\r\n",
        "    fit_score=[]\r\n",
        "    for i in range(len(populations)) :\r\n",
        "      coefs = []\r\n",
        "      for j in range(len(populations[i])):\r\n",
        "        #generate the coefficients array\r\n",
        "        coefs.append(populations[i][j]) \r\n",
        "      #generate the polynomial\r\n",
        "      ffit = np.poly1d(coefs)\r\n",
        "     # print(ffit)\r\n",
        "      new_y = ffit(x)\r\n",
        "      fit_value.append(mean_squared_error(y, new_y))\r\n",
        "    #print(fit_value)\r\n",
        "    #sort by MSE values\r\n",
        "    fit_value, populations = zip(*sorted(zip(fit_value, populations) , reverse = False))\r\n",
        "    #print(fit_value)\r\n",
        "    #print(populations)\r\n",
        "    best= fit_value[0]\r\n",
        "    \r\n",
        "fitness_score()"
      ],
      "execution_count": null,
      "outputs": []
    },
    {
      "cell_type": "code",
      "metadata": {
        "id": "i2i71aQ09Jgr"
      },
      "source": [
        "def selectparent():\r\n",
        "    global parents\r\n",
        "    #global populations , parents\r\n",
        "    #select the best two parents\r\n",
        "    parents=populations[0:2]\r\n",
        "    parents = list(parents)\r\n",
        "    #print(type(parents))\r\n",
        "    #print(parents)\r\n",
        "selectparent()"
      ],
      "execution_count": null,
      "outputs": []
    },
    {
      "cell_type": "code",
      "metadata": {
        "id": "Deb-Jnv-9MRb"
      },
      "source": [
        "def crossover() :\r\n",
        "    global parents\r\n",
        "    #defines the crossover rate: when to perform crossover\r\n",
        "    if(np.random.uniform(0.0, 1.0) <= 0.4):\r\n",
        "      cross_point = random.randint(0,3) \r\n",
        "      #single point crossover array manipulation\r\n",
        "      parents.append((parents[0][0:cross_point +1] + parents[1][cross_point+1:4]))\r\n",
        "      parents.append((parents[1][0:cross_point +1] + parents[0][cross_point+1:4]))\r\n",
        "    \r\n",
        "    #print(parents)\r\n",
        "    \r\n",
        "\r\n",
        "crossover()"
      ],
      "execution_count": null,
      "outputs": []
    },
    {
      "cell_type": "code",
      "metadata": {
        "id": "hEtQCHHb9Z7c"
      },
      "source": [
        "def mutation() :\r\n",
        "    global populations, parents\r\n",
        "    #mutation rate\r\n",
        "    if(np.random.uniform(0.0, 1.0) <= 0.2):\r\n",
        "      #randomly pics a trait to mutate and by what to mutate it by\r\n",
        "        if len(parents) == 2:\r\n",
        "          x=random.randint(0,1)\r\n",
        "        else:\r\n",
        "          x=random.randint(0,3)\r\n",
        "        y = random.randint(0,3)\r\n",
        "        val = random.choice([-1,1])\r\n",
        "        parents[x][y] = parents[x][y] + val\r\n",
        "    populations = parents\r\n",
        "    #print(populations)\r\n",
        "mutation()"
      ],
      "execution_count": null,
      "outputs": []
    },
    {
      "cell_type": "code",
      "metadata": {
        "colab": {
          "base_uri": "https://localhost:8080/",
          "height": 364
        },
        "id": "U47p_34U9z42",
        "outputId": "501c9af0-a346-4aa6-a2d7-438e5185e833"
      },
      "source": [
        "for i in range(95) :\r\n",
        "    fitness_score()\r\n",
        "    selectparent() \r\n",
        "    crossover()\r\n",
        "    mutation()\r\n",
        "print(\"best score :\")\r\n",
        "print(best)\r\n",
        "print(\"sequence........\")\r\n",
        "print(populations[0])\r\n",
        "\r\n",
        "fig, (ax1) = plt.subplots(1)\r\n",
        "plt.plot(x,y,'ro')\r\n",
        "plt.plot(new_x, new_y)\r\n",
        "ffit = np.poly1d(populations[0])\r\n",
        "new_y_GA = ffit(new_x)\r\n",
        "plt.plot(new_x, new_y_GA)\r\n",
        "print(ffit)"
      ],
      "execution_count": null,
      "outputs": [
        {
          "output_type": "stream",
          "text": [
            "best score :\n",
            "11114.122940957308\n",
            "sequence........\n",
            "[1, 20, 6, 10]\n",
            "   3      2\n",
            "1 x + 20 x + 6 x + 10\n"
          ],
          "name": "stdout"
        },
        {
          "output_type": "display_data",
          "data": {
            "image/png": "[encoded data removed]",
            "text/plain": [
              "<Figure size 432x288 with 1 Axes>"
            ]
          },
          "metadata": {
            "tags": []
          }
        }
      ]
    }
  ]
}